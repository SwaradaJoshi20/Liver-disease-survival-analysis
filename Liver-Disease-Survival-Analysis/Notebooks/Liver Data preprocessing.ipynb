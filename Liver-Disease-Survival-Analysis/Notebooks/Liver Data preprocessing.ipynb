{
 "cells": [
  {
   "cell_type": "code",
   "execution_count": 1,
   "id": "7dc0fb9d",
   "metadata": {},
   "outputs": [
    {
     "name": "stderr",
     "output_type": "stream",
     "text": [
      "C:\\Users\\ASUS\\anaconda3\\Lib\\site-packages\\pandas\\core\\arrays\\masked.py:60: UserWarning: Pandas requires version '1.3.6' or newer of 'bottleneck' (version '1.3.5' currently installed).\n",
      "  from pandas.core import (\n"
     ]
    },
    {
     "name": "stdout",
     "output_type": "stream",
     "text": [
      "N_Days           0\n",
      "Status           0\n",
      "Drug             0\n",
      "Age              0\n",
      "Sex              0\n",
      "Ascites          0\n",
      "Hepatomegaly     0\n",
      "Spiders          0\n",
      "Edema            0\n",
      "Bilirubin        0\n",
      "Cholesterol      0\n",
      "Albumin          0\n",
      "Copper           0\n",
      "Alk_Phos         0\n",
      "SGOT             0\n",
      "Tryglicerides    0\n",
      "Platelets        0\n",
      "Prothrombin      0\n",
      "Stage            0\n",
      "dtype: int64\n",
      "<class 'pandas.core.frame.DataFrame'>\n",
      "RangeIndex: 25000 entries, 0 to 24999\n",
      "Data columns (total 19 columns):\n",
      " #   Column         Non-Null Count  Dtype  \n",
      "---  ------         --------------  -----  \n",
      " 0   N_Days         25000 non-null  int64  \n",
      " 1   Status         25000 non-null  int64  \n",
      " 2   Drug           25000 non-null  object \n",
      " 3   Age            25000 non-null  float64\n",
      " 4   Sex            25000 non-null  int64  \n",
      " 5   Ascites        25000 non-null  object \n",
      " 6   Hepatomegaly   25000 non-null  object \n",
      " 7   Spiders        25000 non-null  object \n",
      " 8   Edema          25000 non-null  int64  \n",
      " 9   Bilirubin      25000 non-null  float64\n",
      " 10  Cholesterol    25000 non-null  float64\n",
      " 11  Albumin        25000 non-null  float64\n",
      " 12  Copper         25000 non-null  float64\n",
      " 13  Alk_Phos       25000 non-null  float64\n",
      " 14  SGOT           25000 non-null  float64\n",
      " 15  Tryglicerides  25000 non-null  float64\n",
      " 16  Platelets      25000 non-null  float64\n",
      " 17  Prothrombin    25000 non-null  float64\n",
      " 18  Stage          25000 non-null  int64  \n",
      "dtypes: float64(10), int64(5), object(4)\n",
      "memory usage: 3.6+ MB\n",
      "None\n",
      "             N_Days        Status           Age           Sex        Edema  \\\n",
      "count  25000.000000  25000.000000  25000.000000  25000.000000  25000.00000   \n",
      "mean    1887.117040      0.837600     50.673636      0.114520      0.23448   \n",
      "std     1091.690918      0.944744     10.239991      0.318448      0.51582   \n",
      "min       41.000000      0.000000     26.295890      0.000000      0.00000   \n",
      "25%     1080.000000      0.000000     42.997260      0.000000      0.00000   \n",
      "50%     1680.000000      0.000000     50.682192      0.000000      0.00000   \n",
      "75%     2576.000000      2.000000     57.410959      0.000000      0.00000   \n",
      "max     4795.000000      2.000000     78.493151      1.000000      2.00000   \n",
      "\n",
      "          Bilirubin   Cholesterol       Albumin        Copper      Alk_Phos  \\\n",
      "count  25000.000000  25000.000000  25000.000000  25000.000000  25000.000000   \n",
      "mean       3.402644    372.331471      3.486578    100.184663   1995.675597   \n",
      "std        4.707491    193.668452      0.380488     73.184840   1798.885660   \n",
      "min        0.300000    120.000000      1.960000      4.000000    289.000000   \n",
      "25%        0.800000    275.000000      3.290000     52.000000   1032.000000   \n",
      "50%        1.300000    369.510563      3.510000     97.648387   1828.000000   \n",
      "75%        3.400000    369.510563      3.750000    107.000000   1982.655769   \n",
      "max       28.000000   1775.000000      4.640000    588.000000  13862.400000   \n",
      "\n",
      "               SGOT  Tryglicerides     Platelets   Prothrombin        Stage  \n",
      "count  25000.000000   25000.000000  25000.000000  25000.000000  25000.00000  \n",
      "mean     123.166345     123.822548    256.007337     10.734549      2.00116  \n",
      "std       47.747616      52.786350     98.679006      0.904436      0.81387  \n",
      "min       26.350000      33.000000     62.000000      9.000000      1.00000  \n",
      "25%       92.000000      92.000000    189.000000     10.000000      1.00000  \n",
      "50%      122.556346     124.702128    251.000000     10.600000      2.00000  \n",
      "75%      134.850000     127.000000    311.000000     11.100000      3.00000  \n",
      "max      457.250000     598.000000    721.000000     18.000000      3.00000  \n"
     ]
    }
   ],
   "source": [
    "# Import Libraries\n",
    "import pandas as pd\n",
    "import numpy as np\n",
    "import matplotlib.pyplot as plt\n",
    "import seaborn as sns\n",
    "from lifelines import KaplanMeierFitter, CoxPHFitter\n",
    "from lifelines.statistics import logrank_test\n",
    "from sklearn.model_selection import train_test_split\n",
    "from sklearn.preprocessing import StandardScaler\n",
    "from sklearn.linear_model import LogisticRegression\n",
    "from sklearn.ensemble import RandomForestClassifier\n",
    "from sklearn.metrics import accuracy_score, confusion_matrix\n",
    "\n",
    "# Load dataset\n",
    "data_path = r'C:\\Users\\ASUS\\Downloads\\Projects-20240722T093004Z-001\\Projects\\liver_cirrhosis_stage\\liver_cirrhosis_stage\\liver_cirrhosis.csv'  # Update this with the actual file path\n",
    "df = pd.read_csv(data_path)\n",
    "\n",
    "# Convert Age from Days to Years\n",
    "df['Age'] = df['Age'] / 365  \n",
    "\n",
    "# Map categorical variables to numeric\n",
    "df['Sex'] = df['Sex'].map({'M': 1, 'F': 0})  # Male = 1, Female = 0\n",
    "df['Status'] = df['Status'].map({'C': 0, 'CL': 1, 'D': 2})  # Censored=0, Transplant=1, Death=2\n",
    "df['Edema'] = df['Edema'].map({'N': 0, 'S': 1, 'Y': 2})  \n",
    "\n",
    "print(df.isnull().sum())  # Count missing values per column\n",
    "\n",
    "\n",
    "# Summary of Cleaned Data\n",
    "print(df.info())\n",
    "print(df.describe())\n"
   ]
  },
  {
   "cell_type": "code",
   "execution_count": 2,
   "id": "2bda2b2a",
   "metadata": {},
   "outputs": [
    {
     "name": "stdout",
     "output_type": "stream",
     "text": [
      "   N_Days  Status        Age  Sex  Edema  Bilirubin  Cholesterol  Albumin  \\\n",
      "0    2221       0  50.682192    0      0        0.5        149.0     4.04   \n",
      "1    1230       0  54.038356    1      0        0.5        219.0     3.93   \n",
      "2    4184       0  32.435616    0      0        0.5        320.0     3.54   \n",
      "3    2090       2  45.115068    0      0        0.7        255.0     3.74   \n",
      "4    2105       2  59.449315    0      0        1.9        486.0     3.54   \n",
      "\n",
      "   Copper  Alk_Phos    SGOT  Tryglicerides  Platelets  Prothrombin  Stage  \n",
      "0   227.0     598.0   52.70           57.0      256.0          9.9      1  \n",
      "1    22.0     663.0   45.00           75.0      220.0         10.8      2  \n",
      "2    51.0    1243.0  122.45           80.0      225.0         10.0      2  \n",
      "3    23.0    1024.0   77.50           58.0      151.0         10.2      2  \n",
      "4    74.0    1052.0  108.50          109.0      151.0         11.5      1  \n"
     ]
    }
   ],
   "source": [
    "numeric_df = df.select_dtypes(include=['number'])  # Keep only numeric columns\n",
    "print(numeric_df.head())\n"
   ]
  },
  {
   "cell_type": "code",
   "execution_count": 3,
   "id": "b62350c6",
   "metadata": {},
   "outputs": [],
   "source": [
    "df['Drug'] = df['Drug'].astype('category').cat.codes\n",
    "df['Ascites'] = df['Ascites'].astype('category').cat.codes\n",
    "df['Hepatomegaly'] = df['Hepatomegaly'].astype('category').cat.codes\n",
    "df['Spiders'] = df['Spiders'].astype('category').cat.codes\n"
   ]
  },
  {
   "cell_type": "code",
   "execution_count": null,
   "id": "d2780882",
   "metadata": {},
   "outputs": [],
   "source": []
  },
  {
   "cell_type": "code",
   "execution_count": null,
   "id": "49d02b7e",
   "metadata": {},
   "outputs": [],
   "source": []
  }
 ],
 "metadata": {
  "kernelspec": {
   "display_name": "Python 3 (ipykernel)",
   "language": "python",
   "name": "python3"
  },
  "language_info": {
   "codemirror_mode": {
    "name": "ipython",
    "version": 3
   },
   "file_extension": ".py",
   "mimetype": "text/x-python",
   "name": "python",
   "nbconvert_exporter": "python",
   "pygments_lexer": "ipython3",
   "version": "3.11.5"
  }
 },
 "nbformat": 4,
 "nbformat_minor": 5
}
